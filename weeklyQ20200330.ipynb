{
 "cells": [
  {
   "cell_type": "code",
   "execution_count": 1,
   "metadata": {},
   "outputs": [],
   "source": [
    "simQuote:{[venueList;nRow]\n",
    "    priceList:30+0.01*til 10;\n",
    "    prices:asc -3?priceList;\n",
    "    venues:3?venueList;\n",
    "    bidPrices:(count each venues)#'prices;\n",
    "    bidExchanges:raze venues;\n",
    "    (bidPrices;bidExchanges)\n",
    "  };\n",
    "\n",
    "simLob:{\n",
    "    nRows:20;\n",
    "    seed:-314159;\n",
    "    openTime:`time$09:30;\n",
    "    closeTime:`time$16:00;\n",
    "    litVenues:`XNYS`ARCX`XCHI`XASE`XCIS`XNAS`XBOS`XPHL`BATS`BATY`EDGA`EDGX`IEXG;\n",
    "\n",
    "    system \"S \",string seed;\n",
    "    times:asc closeTime&openTime+nRows?390*60*1000;\n",
    "    nExchanges:2+nRows?(count litVenues)-8;\n",
    "    bidVenues:{y?x}[litVenues;] each nExchanges;\n",
    "    quotes:simQuote[bidVenues;] each til nRows;\n",
    "\n",
    "    :([]time:times;bidPrices:raze each quotes[;0];bidExchanges:quotes[;1]);\n",
    "  };\n",
    "lob:simLob[];"
   ]
  },
  {
   "cell_type": "code",
   "execution_count": 41,
   "metadata": {},
   "outputs": [
    {
     "data": {
      "text/plain": [
       "time         bidPrices  \n",
       "------------------------\n",
       "09:46:45.658 ,30.01     \n",
       "09:55:23.210 ,30.02     \n",
       "09:58:17.727 30.05 30.05\n",
       "09:59:38.945 ,30.02     \n",
       "10:41:17.716 30.01 30.04\n",
       "11:14:56.936 30.05 30.05\n",
       "12:02:17.036 ,30.09     \n",
       "13:11:50.266 30.06 30.06\n",
       "13:37:38.923 30 30f     \n",
       "14:00:47.898 30.09 30.09\n",
       "15:20:33.545 ,30.02     \n",
       "15:52:45.093 ,30.02     \n"
      ]
     },
     "execution_count": 41,
     "metadata": {},
     "output_type": "execute_result"
    }
   ],
   "source": [
    "findXNYS:{[]sTab:select from lob where `XNYS in/:bidExchanges;\n",
    "    flip `time`bidPrices!(sTab[`time];({x where y}'[sTab[`bidPrices];`XNYS=/:sTab[`bidExchanges]]))\n",
    "    };\n",
    "findXNYS[]\n",
    "\n"
   ]
  }
 ],
 "metadata": {
  "kernelspec": {
   "display_name": "Q (kdb+)",
   "language": "q",
   "name": "qpk"
  },
  "language_info": {
   "file_extension": ".q",
   "mimetype": "text/x-q",
   "name": "q",
   "version": "3.6.0"
  }
 },
 "nbformat": 4,
 "nbformat_minor": 2
}
